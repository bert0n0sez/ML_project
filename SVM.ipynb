{
 "cells": [
  {
   "cell_type": "code",
   "execution_count": 2,
   "metadata": {},
   "outputs": [
    {
     "name": "stdout",
     "output_type": "stream",
     "text": [
      "Результаты SVM: 0.5\n",
      "Результаты LinearSVC: 0.9166666666666666\n"
     ]
    }
   ],
   "source": [
    "# Самое необходимое и нужное. Тут и происхожит обучение. В данном случает метод SVM и в дополнение сравнение с LinearSVC\n",
    "\n",
    "import pandas as pd\n",
    "from sklearn import preprocessing\n",
    "from sklearn.model_selection import train_test_split\n",
    "from sklearn.metrics import confusion_matrix\n",
    "import matplotlib.pyplot as plt\n",
    "from sklearn.metrics import ConfusionMatrixDisplay\n",
    "from sklearn import svm\n",
    "from sklearn.svm import LinearSVC\n",
    "\n",
    "df = pd.read_csv('microarray_BRCA_public.csv')\n",
    "y = df.type\n",
    "le = preprocessing.LabelEncoder()\n",
    "le.fit(y)\n",
    "y = le.transform(y)\n",
    "X = df.drop(df.columns[0], axis=1)\n",
    "X_train, X_test, y_train, y_test = train_test_split(X, y, train_size=0.9, test_size=0.1)\n",
    "dict = { 1 : 'basal' , 3 : 'luminal_A', 4 : 'luminal_B', 0 : 'HER', 2 : 'cell_line', 5 : 'normal'}\n",
    "\n",
    "\n",
    "clf = svm.SVC(decision_function_shape='ovo')\n",
    "clf.fit(X_train, y_train)\n",
    "prediction = clf.predict(X_test)\n",
    "result = list(map(dict.get, prediction))\n",
    "y_test_cancer_type = list(map(dict.get, y_test))\n",
    "\n",
    "\n",
    "lin_clf = svm.LinearSVC(max_iter=10000, dual=False).fit(X_train, y_train)\n",
    "lin_clf.fit(X_train, y_train)\n",
    "\n",
    "# Смотрим как работает \n",
    "\n",
    "print( 'Результаты SVM:', clf.score(X_test, y_test))\n",
    "\n",
    "print( 'Результаты LinearSVC:', lin_clf.score(X_test, y_test))\n",
    "\n",
    "\n"
   ]
  },
  {
   "cell_type": "code",
   "execution_count": 5,
   "metadata": {},
   "outputs": [
    {
     "name": "stdout",
     "output_type": "stream",
     "text": [
      "Результаты SVM: 0.5\n",
      "Результаты LinearSVC: 0.9166666666666666\n"
     ]
    }
   ],
   "source": [
    "# Базовая проверка \n",
    "\n",
    "print( 'Результаты SVM:', clf.score(X_test, y_test))\n",
    "\n",
    "print( 'Результаты LinearSVC:', lin_clf.score(X_test, y_test))\n"
   ]
  },
  {
   "cell_type": "code",
   "execution_count": 7,
   "metadata": {},
   "outputs": [
    {
     "name": "stdout",
     "output_type": "stream",
     "text": [
      "[[1 0 0 0 0]\n",
      " [0 4 0 0 0]\n",
      " [0 0 0 5 0]\n",
      " [0 0 0 1 0]\n",
      " [0 0 0 1 0]]\n"
     ]
    },
    {
     "data": {
      "image/png": "[encoded data removed]",
      "text/plain": [
       "<Figure size 640x480 with 2 Axes>"
      ]
     },
     "metadata": {},
     "output_type": "display_data"
    }
   ],
   "source": [
    "# Еще один метод проверки \n",
    "\n",
    "from sklearn.metrics import ConfusionMatrixDisplay\n",
    "\n",
    "\n",
    "cm = confusion_matrix(y_test, prediction)\n",
    "print(cm)\n",
    "vis = ConfusionMatrixDisplay(confusion_matrix=cm)\n",
    "vis.plot()\n",
    "plt.show()"
   ]
  },
  {
   "cell_type": "code",
   "execution_count": 8,
   "metadata": {},
   "outputs": [],
   "source": [
    "# Кросс-валидация\n",
    "\n",
    "from sklearn.model_selection import cross_val_score\n",
    "\n",
    "\n",
    "scores_SVM = cross_val_score(clf, X, y, cv=5)\n",
    "print('Cross-validation scores ovr:', scores_SVM)\n",
    "\n",
    "scores_SVC = cross_val_score(lin_clf, X, y, cv=5)\n",
    "print('Cross-validation scores ovr:', scores_SVC)"
   ]
  }
 ],
 "metadata": {
  "kernelspec": {
   "display_name": "Python 3",
   "language": "python",
   "name": "python3"
  },
  "language_info": {
   "codemirror_mode": {
    "name": "ipython",
    "version": 3
   },
   "file_extension": ".py",
   "mimetype": "text/x-python",
   "name": "python",
   "nbconvert_exporter": "python",
   "pygments_lexer": "ipython3",
   "version": "3.11.5"
  }
 },
 "nbformat": 4,
 "nbformat_minor": 2
}
