{
 "cells": [
  {
   "cell_type": "code",
   "execution_count": 1,
   "metadata": {},
   "outputs": [
    {
     "name": "stdout",
     "output_type": "stream",
     "text": [
      "     1007_s_at   1053_at    117_at    121_at  1255_g_at   1294_at   1316_at  \\\n",
      "20   10.392638  7.334408  6.848586  7.020486   3.228065  7.815439  5.448470   \n",
      "23   10.757742  7.462675  5.704695  7.485845   3.013040  7.305836  4.767045   \n",
      "117  10.118506  7.068413  6.994914  7.361184   3.282575  7.189976  5.108658   \n",
      "113  10.623768  6.372760  7.210036  7.379072   2.932397  8.403958  5.136072   \n",
      "57   10.422371  8.933601  5.630488  6.881770   3.097372  6.273211  5.414001   \n",
      "..         ...       ...       ...       ...        ...       ...       ...   \n",
      "40   10.558869  7.308902  5.961694  7.226882   3.018039  7.748879  5.391552   \n",
      "72   10.554179  7.018811  7.143966  7.079589   2.944623  7.761745  5.191534   \n",
      "31    9.274732  6.293182  6.048170  7.683239   3.358138  7.892531  6.053543   \n",
      "104  11.002343  7.477163  6.406290  7.805232   3.370928  6.343223  5.131323   \n",
      "25   10.099564  9.357799  4.763602  7.465030   3.376371  5.707322  5.176281   \n",
      "\n",
      "      1320_at  1405_i_at   1431_at  ...  AFFX-r2-Ec-bioD-3_at  \\\n",
      "20   4.496955   8.015534  4.126711  ...             12.638556   \n",
      "23   4.414196   4.450380  4.666604  ...             12.361153   \n",
      "117  5.049900   8.778175  3.619491  ...             12.401875   \n",
      "113  4.462141   9.899056  3.863594  ...             12.622633   \n",
      "57   4.432570   3.931658  3.451626  ...             12.250015   \n",
      "..        ...        ...       ...  ...                   ...   \n",
      "40   5.042361   6.770918  4.465402  ...             12.221448   \n",
      "72   4.971222   8.819075  4.050918  ...             12.385382   \n",
      "31   4.600929   6.176051  3.936343  ...             13.121637   \n",
      "104  4.416584   6.919195  4.683887  ...             11.910736   \n",
      "25   4.633040   6.675685  3.398456  ...             12.151410   \n",
      "\n",
      "     AFFX-r2-Ec-bioD-5_at  AFFX-r2-P1-cre-3_at  AFFX-r2-P1-cre-5_at  \\\n",
      "20              12.122129            14.331152            14.133976   \n",
      "23              11.885828            14.098673            13.857963   \n",
      "117             11.794224            13.859219            13.734972   \n",
      "113             12.033995            14.313255            14.059062   \n",
      "57              11.951693            13.790652            13.518487   \n",
      "..                    ...                  ...                  ...   \n",
      "40              11.694220            14.114734            13.945407   \n",
      "72              11.987067            14.237514            13.996787   \n",
      "31              12.588037            14.453531            14.329213   \n",
      "104             11.256755            14.044062            13.740376   \n",
      "25              11.531178            13.946755            13.647808   \n",
      "\n",
      "     AFFX-ThrX-3_at  AFFX-ThrX-5_at  AFFX-ThrX-M_at  AFFX-TrpnX-3_at  \\\n",
      "20         8.495888        4.971727        6.209136         2.852852   \n",
      "23         8.094317        6.498348        7.053454         2.951694   \n",
      "117        8.679359        7.654647        8.078810         2.780323   \n",
      "113        8.018070        6.331758        6.985605         2.887378   \n",
      "57         6.440627        4.952225        5.264210         2.850506   \n",
      "..              ...             ...             ...              ...   \n",
      "40         8.064623        5.847770        6.396585         2.791805   \n",
      "72         8.487127        7.447694        7.782389         2.834698   \n",
      "31         9.725149        6.845714        8.147140         2.894623   \n",
      "104        7.850292        5.919740        6.372010         2.836146   \n",
      "25         8.397759        6.586038        7.371262         3.125759   \n",
      "\n",
      "     AFFX-TrpnX-5_at  AFFX-TrpnX-M_at  \n",
      "20          3.697448         3.333289  \n",
      "23          3.599418         3.094079  \n",
      "117         3.688597         3.056681  \n",
      "113         3.649306         3.166218  \n",
      "57          3.620385         3.072414  \n",
      "..               ...              ...  \n",
      "40          3.672829         3.213210  \n",
      "72          3.439361         3.216148  \n",
      "31          3.457309         3.255606  \n",
      "104         3.677597         3.157510  \n",
      "25          3.752883         3.390867  \n",
      "\n",
      "[108 rows x 54675 columns]\n"
     ]
    }
   ],
   "source": [
    "# Самое необходимое и нужное. Тут и происхожит обучение. В данном случает метод Случайный лес \n",
    "\n",
    "import numpy as np\n",
    "import pandas as pd\n",
    "from sklearn import preprocessing\n",
    "from sklearn.model_selection import train_test_split\n",
    "from sklearn.metrics import confusion_matrix\n",
    "import matplotlib.pyplot as plt\n",
    "from sklearn.metrics import ConfusionMatrixDisplay\n",
    "from sklearn.ensemble import GradientBoostingClassifier\n",
    "\n",
    "df = pd.read_csv('microarray_BRCA_public.csv')\n",
    "y = df.type\n",
    "le = preprocessing.LabelEncoder()\n",
    "le.fit(y)\n",
    "y = le.transform(y)\n",
    "X = df.drop(df.columns[0], axis=1)\n",
    "X_train, X_test, y_train, y_test = train_test_split(X, y, train_size=0.9, test_size=0.1)\n",
    "dict = { 1 : 'basal' , 3 : 'luminal_A', 4 : 'luminal_B', 0 : 'HER', 2 : 'cell_line', 5 : 'normal'}\n",
    "\n",
    "clf = GradientBoostingClassifier(n_estimators=30, learning_rate=1.0, max_depth=1, random_state=0).fit(X_train, y_train)\n",
    "prediction = clf.predict(X_test)\n",
    "result = list(map(dict.get, prediction))\n",
    "y_test_cancer_type = list(map(dict.get, y_test))\n",
    "\n",
    "print(clf.score(X_test, y_test))\n",
    "\n"
   ]
  },
  {
   "cell_type": "code",
   "execution_count": 2,
   "metadata": {},
   "outputs": [
    {
     "ename": "NameError",
     "evalue": "name 'y_test_cancer_type' is not defined",
     "output_type": "error",
     "traceback": [
      "\u001b[1;31m---------------------------------------------------------------------------\u001b[0m",
      "\u001b[1;31mNameError\u001b[0m                                 Traceback (most recent call last)",
      "\u001b[1;32mc:\\Users\\Albert\\Desktop\\ML\\RandomForestClassifier.ipynb Cell 2\u001b[0m line \u001b[0;36m1\n\u001b[1;32m----> <a href='vscode-notebook-cell:/c%3A/Users/Albert/Desktop/ML/RandomForestClassifier.ipynb#W4sZmlsZQ%3D%3D?line=0'>1</a>\u001b[0m \u001b[39mprint\u001b[39m(\u001b[39m'\u001b[39m\u001b[39mБыло\u001b[39m\u001b[39m'\u001b[39m, y_test_cancer_type, \u001b[39m'\u001b[39m\u001b[39m\\n\u001b[39;00m\u001b[39mстало\u001b[39m\u001b[39m'\u001b[39m, result)\n",
      "\u001b[1;31mNameError\u001b[0m: name 'y_test_cancer_type' is not defined"
     ]
    }
   ],
   "source": [
    "#Проверка как работает\n",
    "\n",
    "print('Было', y_test_cancer_type, '\\nстало', result)"
   ]
  },
  {
   "cell_type": "code",
   "execution_count": 4,
   "metadata": {},
   "outputs": [
    {
     "name": "stdout",
     "output_type": "stream",
     "text": [
      "Cross-validation scores: [0.95833333 0.91666667 0.91666667 0.875      0.875     ]\n"
     ]
    }
   ],
   "source": [
    "# Кросс-валидация\n",
    "\n",
    "from sklearn.model_selection import cross_val_score\n",
    "\n",
    "\n",
    "scores = cross_val_score(clf, X, y, cv=5)\n",
    "print('Cross-validation scores:', scores)\n",
    "\n",
    "'''Cross-validation scores: [0.95833333 0.91666667 0.91666667 0.875      0.875     ]\n",
    "6 m 31 sec \n",
    "\n",
    "Cross-validation scores: [0.95833333 0.91666667 0.91666667 0.875      0.875     ]\n",
    "5 m 17 sec\n",
    "\n",
    "'''"
   ]
  },
  {
   "cell_type": "code",
   "execution_count": 12,
   "metadata": {},
   "outputs": [
    {
     "name": "stdout",
     "output_type": "stream",
     "text": [
      "[[4 0 0 0 0]\n",
      " [0 5 0 0 0]\n",
      " [0 0 1 0 0]\n",
      " [0 0 0 1 0]\n",
      " [0 0 0 0 1]]\n"
     ]
    },
    {
     "data": {
      "image/png": "[encoded data removed]",
      "text/plain": [
       "<Figure size 640x480 with 2 Axes>"
      ]
     },
     "metadata": {},
     "output_type": "display_data"
    }
   ],
   "source": [
    "# Еще один метод проверки \n",
    "\n",
    "cm = confusion_matrix(y_test, prediction)\n",
    "print(cm)\n",
    "vis = ConfusionMatrixDisplay(confusion_matrix=cm)\n",
    "vis.plot()\n",
    "plt.show()\n"
   ]
  },
  {
   "cell_type": "code",
   "execution_count": 17,
   "metadata": {},
   "outputs": [
    {
     "name": "stdout",
     "output_type": "stream",
     "text": [
      "1.0\n"
     ]
    },
    {
     "data": {
      "text/plain": [
       "'n_estimators=10 время 1 м 15 сек результат 0.8(3)\\nn_estimators=5 время 41 сек результат 0,75\\nn_estimators=25 время 2 м 39 сек результат 0,8(3)\\nn_estimators=50 время 3 м 15 сек результат 0,8(3)\\nn_estimators=100 время 3 м 00 сек результат 0,8(3)'"
      ]
     },
     "execution_count": 17,
     "metadata": {},
     "output_type": "execute_result"
    }
   ],
   "source": [
    "# Самый базовый метод проверки \n",
    "\n",
    "print(clf.score(X_test, y_test))\n",
    "\n",
    "\n",
    "'''n_estimators=10 время 1 м 15 сек результат 0.8(3)\n",
    "n_estimators=5 время 41 сек результат 0,75\n",
    "n_estimators=25 время 2 м 39 сек результат 0,8(3)\n",
    "n_estimators=50 время 3 м 15 сек результат 0,8(3)\n",
    "n_estimators=100 время 3 м 00 сек результат 0,8(3)'''"
   ]
  }
 ],
 "metadata": {
  "kernelspec": {
   "display_name": "Python 3",
   "language": "python",
   "name": "python3"
  },
  "language_info": {
   "codemirror_mode": {
    "name": "ipython",
    "version": 3
   },
   "file_extension": ".py",
   "mimetype": "text/x-python",
   "name": "python",
   "nbconvert_exporter": "python",
   "pygments_lexer": "ipython3",
   "version": "3.11.5"
  }
 },
 "nbformat": 4,
 "nbformat_minor": 2
}
